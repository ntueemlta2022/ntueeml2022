{
 "cells": [
  {
   "cell_type": "markdown",
   "metadata": {},
   "source": [
    "# HW1 - PM2.5 Prediction\n",
    "- Preprocessing \n",
    "- Training "
   ]
  },
  {
   "cell_type": "code",
   "execution_count": null,
   "metadata": {},
   "outputs": [],
   "source": [
    "import os\n",
    "import csv\n",
    "import glob\n",
    "import numpy as np\n",
    "import pandas as pd"
   ]
  },
  {
   "cell_type": "markdown",
   "metadata": {},
   "source": [
    "## Preprocessing"
   ]
  },
  {
   "cell_type": "code",
   "execution_count": null,
   "metadata": {},
   "outputs": [],
   "source": [
    "def preprocess(df, feature):\n",
    "    \"\"\"Dataframe preprocess\n",
    "    Preprocess the dataframe & extract specific value.\n",
    "\n",
    "    Args:\n",
    "        df: PM2.5 Dataframe\n",
    "        feature: SO2, PM2.5, and so on\n",
    "\n",
    "    Returns:\n",
    "        processed dataframe\n",
    "\n",
    "    \"\"\"\n",
    "    df = df[feature]\n",
    "    df = df.str.extract('([0-9]+\\.[0-9]+|[0-9]+)').astype('float32')\n",
    "    df.fillna(value=0, inplace=True)\n",
    "    df = np.array(df).flatten().reshape(1, -1)\n",
    "    return df\n",
    "\n",
    "def validation(inputData, outputLabel):\n",
    "    \"\"\"Data Cleansing\n",
    "    \n",
    "    Args:\n",
    "        inputData: train_data\n",
    "        outputLabel: train_label\n",
    "\n",
    "    \"\"\"\n",
    "    if outputLabel < 0 or outputLabel > 65:\n",
    "        return False\n",
    "    for i in range(9):\n",
    "        if inputData[i,10] < 0 or inputData[i,10] > 65:\n",
    "            return False\n",
    "    return True"
   ]
  },
  {
   "cell_type": "code",
   "execution_count": null,
   "metadata": {},
   "outputs": [],
   "source": [
    "df = pd.read_csv('./datas/train_datas_1.csv')\n",
    "features = df.columns.values.tolist()\n",
    "\n",
    "isInit = False\n",
    "for feature in features:\n",
    "    series = preprocess(df, feature)\n",
    "    if isInit is False:\n",
    "        isInit = True\n",
    "        train_dataset = series\n",
    "    else:\n",
    "        train_dataset = np.concatenate((train_dataset, series), axis=0)\n",
    "        \n",
    "train_dataset = train_dataset.transpose()"
   ]
  },
  {
   "cell_type": "code",
   "execution_count": null,
   "metadata": {
    "scrolled": true
   },
   "outputs": [],
   "source": [
    "nums = train_dataset.shape[0] - 9\n",
    "\n",
    "isInit = False\n",
    "for hr in range(nums):\n",
    "    isValid = validation(train_dataset[hr:hr+9,:], train_dataset[hr+9, 10:11])\n",
    "    if isValid == True:\n",
    "        if isInit == False:\n",
    "            train_datas = train_dataset[hr:hr+9,:].flatten()\n",
    "            data_size = train_datas.shape[0]\n",
    "            train_labels = train_dataset[hr+9, 10:11]\n",
    "            isInit = True\n",
    "        else:\n",
    "            train_datas = np.concatenate((train_datas, train_dataset[hr:hr+9,:].flatten()))\n",
    "            train_labels = np.concatenate((train_labels, train_dataset[hr+9, 10:11]))\n",
    "            \n",
    "train_datas = train_datas.reshape(-1, data_size)\n",
    "train_labels = train_labels\n",
    "\n",
    "# np.save('./hw1/train_datas.npy', train_datas)\n",
    "# np.save('./hw1/train_labels.npy', train_labels)"
   ]
  },
  {
   "cell_type": "markdown",
   "metadata": {},
   "source": [
    "## Model Training "
   ]
  },
  {
   "cell_type": "code",
   "execution_count": null,
   "metadata": {
    "scrolled": true
   },
   "outputs": [],
   "source": [
    "X_train = train_datas\n",
    "y_train = train_labels\n",
    "\n",
    "# X_train = np.load('./hw1/train_datas.npy')\n",
    "# y_train = np.load('./hw1/train_labels.npy')\n",
    "\n",
    "epochs = 1e4\n",
    "lr = 1e-3\n",
    "\n",
    "w = np.zeros(X_train.shape[1])\n",
    "s_grad = np.zeros(X_train.shape[1])\n",
    "\n",
    "print ('[+] Model Training Start...')\n",
    "\n",
    "for epoch in range(int(epochs)):\n",
    "    y_pred = np.dot(X_train, w)\n",
    "    loss = y_train - y_pred\n",
    "    grad = np.dot(X_train.transpose(), loss) * (-2)\n",
    "    s_grad += grad ** 2\n",
    "    ada = np.sqrt(s_grad)\n",
    "    w = w - lr * grad/ada\n",
    "    if epoch % 500 == 0:\n",
    "        mse =  (loss**2).mean(axis=None)\n",
    "        print ('[{:04d}] - mse: {}\\t'.format(epoch, mse))\n",
    "\n",
    "np.save('./hw1/weights.npy', w)\n",
    "\n",
    "print ('[+] Model Training Done...')"
   ]
  }
 ],
 "metadata": {
  "kernelspec": {
   "display_name": "Python 3",
   "language": "python",
   "name": "python3"
  },
  "language_info": {
   "codemirror_mode": {
    "name": "ipython",
    "version": 3
   },
   "file_extension": ".py",
   "mimetype": "text/x-python",
   "name": "python",
   "nbconvert_exporter": "python",
   "pygments_lexer": "ipython3",
   "version": "3.6.9"
  },
  "latex_envs": {
   "LaTeX_envs_menu_present": true,
   "autoclose": false,
   "autocomplete": true,
   "bibliofile": "biblio.bib",
   "cite_by": "apalike",
   "current_citInitial": 1,
   "eqLabelWithNumbers": true,
   "eqNumInitial": 1,
   "hotkeys": {
    "equation": "Ctrl-E",
    "itemize": "Ctrl-I"
   },
   "labels_anchors": false,
   "latex_user_defs": false,
   "report_style_numbering": false,
   "user_envs_cfg": false
  }
 },
 "nbformat": 4,
 "nbformat_minor": 2
}
